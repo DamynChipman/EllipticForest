{
 "cells": [
  {
   "cell_type": "code",
   "execution_count": 1,
   "metadata": {},
   "outputs": [],
   "source": [
    "import sys\n",
    "import numpy as np"
   ]
  },
  {
   "cell_type": "code",
   "execution_count": 4,
   "metadata": {},
   "outputs": [],
   "source": [
    "import numpy as np\n",
    "\n",
    "def read_binary_matrix(filename):\n",
    "    with open(filename, 'rb') as file:\n",
    "        # Read the number of rows and columns\n",
    "        num_rows = np.fromfile(file, dtype=np.int32, count=1)[0]\n",
    "        num_cols = np.fromfile(file, dtype=np.int32, count=1)[0]\n",
    "        \n",
    "        # Read the data as a 1D array\n",
    "        data = np.fromfile(file, dtype=np.float64)\n",
    "        \n",
    "        # Reshape the data into a matrix\n",
    "        matrix = np.reshape(data, (num_rows, num_cols))\n",
    "        \n",
    "        return matrix\n",
    "    \n",
    "def read_binary_vector(filename):\n",
    "    with open(filename, 'rb') as file:\n",
    "        # Read the number of rows and columns\n",
    "        num_rows = np.fromfile(file, dtype=np.int32, count=1)[0]\n",
    "        \n",
    "        # Read the data as a 1D array\n",
    "        vector = np.fromfile(file, dtype=np.float64)\n",
    "        \n",
    "        return vector"
   ]
  },
  {
   "cell_type": "code",
   "execution_count": 34,
   "metadata": {},
   "outputs": [],
   "source": [
    "import glob\n",
    "\n",
    "directory = '/Users/damynchipman/packages/EllipticForest/build-feature-adaptive-build/examples/toybox'\n",
    "file_pattern = '*.bin'\n",
    "\n",
    "file_list = glob.glob(directory + '/' + file_pattern)\n",
    "\n",
    "data = {}\n",
    "for file in file_list:\n",
    "    filename = file.split('/')[-1]\n",
    "    if \"vector\" in filename:\n",
    "        data[filename[:-4]] = read_binary_vector(file)\n",
    "    elif \"matrix\" in filename:\n",
    "        data[filename[:-4]] = read_binary_matrix(file)\n"
   ]
  },
  {
   "cell_type": "code",
   "execution_count": 53,
   "metadata": {},
   "outputs": [
    {
     "data": {
      "text/plain": [
       "-0.0009882488062311623"
      ]
     },
     "execution_count": 53,
     "metadata": {},
     "output_type": "execute_result"
    }
   ],
   "source": [
    "left_step = '1'\n",
    "right_step = '2'\n",
    "left_patch = '003'\n",
    "right_patch = '003'\n",
    "operator = 'vector_u'\n",
    "np.max(data['step-' + left_step + '-p' + left_patch + '-' + operator] - data['step-' + right_step + '-p' + right_patch + '-' + operator])"
   ]
  },
  {
   "cell_type": "code",
   "execution_count": null,
   "metadata": {},
   "outputs": [],
   "source": []
  }
 ],
 "metadata": {
  "kernelspec": {
   "display_name": "EllipticForest",
   "language": "python",
   "name": "python3"
  },
  "language_info": {
   "codemirror_mode": {
    "name": "ipython",
    "version": 3
   },
   "file_extension": ".py",
   "mimetype": "text/x-python",
   "name": "python",
   "nbconvert_exporter": "python",
   "pygments_lexer": "ipython3",
   "version": "3.11.0"
  }
 },
 "nbformat": 4,
 "nbformat_minor": 2
}
